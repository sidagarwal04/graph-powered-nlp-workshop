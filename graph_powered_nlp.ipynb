{
  "cells": [
    {
      "cell_type": "markdown",
      "metadata": {
        "id": "view-in-github",
        "colab_type": "text"
      },
      "source": [
        "<a href=\"https://colab.research.google.com/github/sidagarwal04/graph-powered-nlp-workshop/blob/main/graph_powered_nlp.ipynb\" target=\"_parent\"><img src=\"https://colab.research.google.com/assets/colab-badge.svg\" alt=\"Open In Colab\"/></a>"
      ]
    },
    {
      "cell_type": "markdown",
      "source": [
        "# Graph Powered NLP Workshop Python Notebook"
      ],
      "metadata": {
        "id": "VuGNALbggtuf"
      }
    },
    {
      "cell_type": "markdown",
      "source": [
        "### Installing necessary drivers - Google Generative AI, Neo4j and Gradio.\n",
        "\n",
        "**Instruction:** Don't forget to restart the runtime after running the below cell"
      ],
      "metadata": {
        "id": "k4yjGsjihe7n"
      }
    },
    {
      "cell_type": "code",
      "execution_count": null,
      "metadata": {
        "id": "vXYXe44FLeZy"
      },
      "outputs": [],
      "source": [
        "!pip install google-generativeai\n",
        "!pip install -q neo4j-driver\n",
        "!pip install -q gradio"
      ]
    },
    {
      "cell_type": "markdown",
      "metadata": {
        "id": "TUTKEGSzd5gR"
      },
      "source": [
        "### Import necessary libraries from installed packages/drivers - PaLM, base64, json, gradio and GraphDatabase"
      ]
    },
    {
      "cell_type": "code",
      "execution_count": 2,
      "metadata": {
        "id": "JZuvUuuTY3VZ"
      },
      "outputs": [],
      "source": [
        "import google.generativeai as genai\n",
        "import base64\n",
        "import json\n",
        "import gradio as gr\n",
        "from neo4j import GraphDatabase"
      ]
    },
    {
      "cell_type": "markdown",
      "metadata": {
        "id": "_qxbTb6YeDus"
      },
      "source": [
        "### Add Gemini API Key from Google AI Studio\n",
        "\n",
        "**Instruction:** Replace \"API_KEY\" with the value of API Key copied from Google AI Studio as mentioned in Step #6 of Part #2 of [Step-by-Step Guide](https://github.com/sidagarwal04/graph-powered-nlp-workshop/blob/main/step-by-step-guide.md#part-2-create-google-makersuite-account-train--test-prompt-in-google-makersuite-and-get-google-palm-2-api-key). Don't forget to add to include the key in double-quotes (\" \")"
      ]
    },
    {
      "cell_type": "code",
      "execution_count": 3,
      "metadata": {
        "id": "4F1dMaSWZK0z"
      },
      "outputs": [],
      "source": [
        "genai.configure(api_key = data[\"API_KEY\"])"
      ]
    },
    {
      "cell_type": "markdown",
      "source": [
        "### Include the generated prompt from Google AI Studio.\n",
        "\n",
        "**Instruction:** Remove the initial part of installing drivers and configuring the API key as it has already been done in previous steps. Also, put the entire code as a function with output to be returned instead of printing it."
      ],
      "metadata": {
        "id": "uf0swKVQjmmr"
      }
    },
    {
      "cell_type": "code",
      "execution_count": 4,
      "metadata": {
        "id": "Hr-lG9sEZwaY"
      },
      "outputs": [],
      "source": [
        "def get_answer(input):\n",
        "\n",
        "  defaults = {\n",
        "    'model': 'models/text-bison-001',\n",
        "    'temperature': 0.7,\n",
        "    'candidate_count': 1,\n",
        "    'top_k': 40,\n",
        "    'top_p': 0.95,\n",
        "    'max_output_tokens': 1024,\n",
        "    'stop_sequences': [],\n",
        "    'safety_settings': [{\"category\":\"HARM_CATEGORY_DEROGATORY\",\"threshold\":1},{\"category\":\"HARM_CATEGORY_TOXICITY\",\"threshold\":1},{\"category\":\"HARM_CATEGORY_VIOLENCE\",\"threshold\":2},{\"category\":\"HARM_CATEGORY_SEXUAL\",\"threshold\":2},{\"category\":\"HARM_CATEGORY_MEDICAL\",\"threshold\":2},{\"category\":\"HARM_CATEGORY_DANGEROUS\",\"threshold\":2}],\n",
        "  }\n",
        "\n",
        "  prompt = f\"\"\"You are an expert in converting English questions to Neo4j Cypher Graph code! The Graph has following Node Labels - Movie, Person! the Movie Node has the following properties released, tagline, title. The Person node has properties such as name &amp; born. The Neo4j Graph has the following Relationship types ACTED_IN, DIRECTED, FOLLOWS, PRODUCED, REVIEWED, WROTE!\n",
        "\n",
        "  All relationships ACTED_IN, DIRECTED, PRODUCED, REVIEWED, WROTE start from Person node to Movie node and not the other way around except for FOLLOWS relationship which starts from Person node to Person node.\n",
        "\n",
        "  For example,\n",
        "  Example 1 - List down 5 movies that released after the year 2000, the Cypher command will be something like this\n",
        "  ``` MATCH (m:Movie)\n",
        "  WHERE m.released > 2000\n",
        "  RETURN m LIMIT 5\n",
        "  ```\n",
        "\n",
        "  Example 2 - Get all the people who acted in a movie that was released after 2010.\n",
        "  ```\n",
        "  MATCH (p:Person)-[r:ACTED_IN]->(m:Movie)\n",
        "  WHERE m.released > 2010\n",
        "  RETURN p,r,m\n",
        "  ```\n",
        "\n",
        "  Example 3 - Name the Director of the movie Apollo 13?\n",
        "  ```\n",
        "  MATCH (m:Movie)<-[:DIRECTED]-(p:Person)\n",
        "  WHERE m.title = 'Apollo';\n",
        "  RETURN p.name\n",
        "  ```\n",
        "\n",
        "  Do not include ``` and \\n in the output\n",
        "\n",
        "  {input}\"\"\"\n",
        "  response = genai.generate_text(**defaults,prompt=prompt)\n",
        "\n",
        "  return response.result"
      ]
    },
    {
      "cell_type": "markdown",
      "source": [
        "### Testing the output of get_answer() function with a test input"
      ],
      "metadata": {
        "id": "QJOyVbAUkm2h"
      }
    },
    {
      "cell_type": "code",
      "execution_count": 5,
      "metadata": {
        "colab": {
          "base_uri": "https://localhost:8080/",
          "height": 35
        },
        "id": "O2ofGI64atGc",
        "outputId": "f366be79-7d6d-45d1-ebf0-bbf7988cd29e"
      },
      "outputs": [
        {
          "output_type": "execute_result",
          "data": {
            "text/plain": [
              "'MATCH (p:Person)-[r:ACTED_IN]->(m:Movie) WHERE m.title = \"V for Vendetta\" RETURN p.name'"
            ],
            "application/vnd.google.colaboratory.intrinsic+json": {
              "type": "string"
            }
          },
          "metadata": {},
          "execution_count": 5
        }
      ],
      "source": [
        "get_answer(\"Who were the actors in the movie V for Vendetta\")"
      ]
    },
    {
      "cell_type": "markdown",
      "source": [
        "### Initialize GraphDatabase driver\n",
        "\n",
        "**Instruction:** Replace URI, username and password before running the cell with the values from the txt file downloaded when creating Neo4j AuraDB instance in Step #4 of Part #1 of [Step By Step Guide](https://github.com/sidagarwal04/graph-powered-nlp-workshop/blob/main/step-by-step-guide.md#part-1-create-and-load-a-neo4j-instance) of this workshop."
      ],
      "metadata": {
        "id": "8V9yWsONkw1D"
      }
    },
    {
      "cell_type": "code",
      "execution_count": 6,
      "metadata": {
        "id": "YEMajMpDbEX6"
      },
      "outputs": [],
      "source": [
        "driver = GraphDatabase.driver(\"URI\",\n",
        "                              auth=(\"username\",\n",
        "                                    \"password\"))"
      ]
    },
    {
      "cell_type": "markdown",
      "metadata": {
        "id": "IiyxjOE1dr3J"
      },
      "source": [
        "### Import required library for processing regular expressions"
      ]
    },
    {
      "cell_type": "code",
      "execution_count": 7,
      "metadata": {
        "id": "FQP5BDGpdpSF"
      },
      "outputs": [],
      "source": [
        "import re"
      ]
    },
    {
      "cell_type": "markdown",
      "metadata": {
        "id": "62T0UKQZc4fl"
      },
      "source": [
        "### Function to clean the output query from get_answer() function by removing slash n's (\\n) and substituting it with a space if it exists. Also, extract the string after RETURN expression in the output cypher query and utilize as a separate key to be used for printing the output in chatbot in later steps"
      ]
    },
    {
      "cell_type": "code",
      "execution_count": 8,
      "metadata": {
        "id": "dolSYLLmbrym"
      },
      "outputs": [],
      "source": [
        "def extract_query_and_return_key(input_query_result):\n",
        "    slash_n_pattern = r'[ \\n]+'\n",
        "    ret_pattern = r'RETURN\\s+(.*)'\n",
        "    replacement = ' '\n",
        "\n",
        "    cleaned_query = re.sub(slash_n_pattern, replacement, input_query_result)\n",
        "    if cleaned_query:\n",
        "        match = re.search(ret_pattern, cleaned_query)\n",
        "        if match:\n",
        "            extracted_string = match.group(1)\n",
        "        else:\n",
        "            extracted_string = \"\"\n",
        "    return cleaned_query, extracted_string"
      ]
    },
    {
      "cell_type": "markdown",
      "source": [
        "### Testing the extract_query_and_return_key() function with a test input in natural language"
      ],
      "metadata": {
        "id": "2XGpwCBmmKhT"
      }
    },
    {
      "cell_type": "code",
      "execution_count": 9,
      "metadata": {
        "colab": {
          "base_uri": "https://localhost:8080/"
        },
        "id": "mI4G3_zScHYb",
        "outputId": "9098a223-b600-4321-dd6c-d28420363cf9"
      },
      "outputs": [
        {
          "output_type": "execute_result",
          "data": {
            "text/plain": [
              "(\"MATCH (p:Person)-[r:ACTED_IN]->(m:Movie) WHERE m.title = 'V for Vendetta' RETURN p.name\",\n",
              " 'p.name')"
            ]
          },
          "metadata": {},
          "execution_count": 9
        }
      ],
      "source": [
        "extract_query_and_return_key(get_answer(\"Who were the actors in the movie V for Vendetta\"))"
      ]
    },
    {
      "cell_type": "markdown",
      "metadata": {
        "id": "Zap-rwZIccuV"
      },
      "source": [
        "### format_names_with_ampersand() to return results as a comma-separated string of values with last value having '&' (ampersand/and) in case the output is a list of values."
      ]
    },
    {
      "cell_type": "code",
      "execution_count": 10,
      "metadata": {
        "id": "MiKTUqoGccCD"
      },
      "outputs": [],
      "source": [
        "def format_names_with_ampersand(names):\n",
        "    if len(names) == 0:\n",
        "        return \"\"\n",
        "    elif len(names) == 1:\n",
        "        return names[0]\n",
        "    else:\n",
        "        formatted_names = \", \".join(names[:-1]) + \" & \" + names[-1]\n",
        "        return formatted_names"
      ]
    },
    {
      "cell_type": "markdown",
      "source": [
        "### Testing format_names_with_ampersand() with sample input having list of values"
      ],
      "metadata": {
        "id": "ehQc6_pBmtTo"
      }
    },
    {
      "cell_type": "code",
      "execution_count": 11,
      "metadata": {
        "colab": {
          "base_uri": "https://localhost:8080/",
          "height": 35
        },
        "id": "G9HWiCjMg7mv",
        "outputId": "3cc20e3a-cb10-4f6a-c093-0f29e751ceca"
      },
      "outputs": [
        {
          "output_type": "execute_result",
          "data": {
            "text/plain": [
              "'Sachin, Virat & Rahul'"
            ],
            "application/vnd.google.colaboratory.intrinsic+json": {
              "type": "string"
            }
          },
          "metadata": {},
          "execution_count": 11
        }
      ],
      "source": [
        "format_names_with_ampersand([\"Sachin\",\"Virat\",\"Rahul\"])"
      ]
    },
    {
      "cell_type": "markdown",
      "metadata": {
        "id": "xVcvzmiGhK8Q"
      },
      "source": [
        "### run_cypher_on_neo4j() to pass the output query from get_answer() to the Neo4j Database. If the length of output list is more than 1, format_name_with_ampersand() will further format the list and if the length of output list is equal to 1, output list is returned as it is. In case the output list is empty, an empty string is returned"
      ]
    },
    {
      "cell_type": "code",
      "execution_count": 29,
      "metadata": {
        "id": "DX907ZoLhFlO"
      },
      "outputs": [],
      "source": [
        "def run_cypher_on_neo4j(inp_query, inp_key):\n",
        "    out_list = []\n",
        "    with driver.session() as session:\n",
        "        result = session.run(inp_query)\n",
        "        for record in result:\n",
        "            out_list.append(record[inp_key])\n",
        "    driver.close()\n",
        "    if len(out_list) > 1:\n",
        "        return format_names_with_ampersand(out_list)\n",
        "    elif len(out_list) == 1:\n",
        "        return out_list[0]\n",
        "    else:\n",
        "        return \"\""
      ]
    },
    {
      "cell_type": "markdown",
      "source": [
        "### Additional generate_and_exec_cypher() to parse and format the output of get_answer() and pass it to run_cypher_on_neo4j()"
      ],
      "metadata": {
        "id": "M2e8NAxtn62_"
      }
    },
    {
      "cell_type": "code",
      "execution_count": 14,
      "metadata": {
        "id": "_VyRl85rmRkE"
      },
      "outputs": [],
      "source": [
        "def generate_and_exec_cypher(input_query):\n",
        "    gen_query, gen_key = extract_query_and_return_key(get_answer(input_query))\n",
        "    return run_cypher_on_neo4j(gen_query, gen_key)"
      ]
    },
    {
      "cell_type": "markdown",
      "source": [
        "### chatbot() to initiliaze the chatbot and pass the output of generate_and_exec_cypher to be displayed in the chatbot"
      ],
      "metadata": {
        "id": "O4mZ13ZBoVIn"
      }
    },
    {
      "cell_type": "code",
      "execution_count": null,
      "metadata": {
        "id": "ply_bUFznJQS"
      },
      "outputs": [],
      "source": [
        "def chatbot(input, history=[]):\n",
        "    output = str(generate_and_exec_cypher(input))\n",
        "    history.append((input, output))\n",
        "    return history, history"
      ]
    },
    {
      "cell_type": "markdown",
      "source": [
        "### Initializing Gradio interface to run the chatbot.\n",
        "\n",
        "**Instruction:** Run the chatbot in the localhost url generated after running the cell and play aroung with input and output in natural language while fetching the results from the Neo4j Database using PaLM 2 API for converting input text into cypher code."
      ],
      "metadata": {
        "id": "rcqP5ZhDol8r"
      }
    },
    {
      "cell_type": "code",
      "execution_count": null,
      "metadata": {
        "colab": {
          "background_save": true
        },
        "id": "m4HXQQvonPT5"
      },
      "outputs": [],
      "source": [
        "gr.Interface(fn = chatbot,\n",
        "             inputs = [\"text\",'state'],\n",
        "             outputs = [\"chatbot\",'state']).launch(debug = True)"
      ]
    }
  ],
  "metadata": {
    "colab": {
      "provenance": [],
      "authorship_tag": "ABX9TyOjU7kNt3cTEvOfUBaLjhmF",
      "include_colab_link": true
    },
    "kernelspec": {
      "display_name": "Python 3",
      "name": "python3"
    },
    "language_info": {
      "name": "python"
    }
  },
  "nbformat": 4,
  "nbformat_minor": 0
}