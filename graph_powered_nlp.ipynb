{
  "cells": [
    {
      "cell_type": "markdown",
      "metadata": {
        "id": "view-in-github",
        "colab_type": "text"
      },
      "source": [
        "<a href=\"https://colab.research.google.com/github/sidagarwal04/graph-powered-nlp-workshop/blob/main/graph_powered_nlp.ipynb\" target=\"_parent\"><img src=\"https://colab.research.google.com/assets/colab-badge.svg\" alt=\"Open In Colab\"/></a>"
      ]
    },
    {
      "cell_type": "markdown",
      "source": [
        "# Graph Powered NLP Workshop Python Notebook"
      ],
      "metadata": {
        "id": "VuGNALbggtuf"
      }
    },
    {
      "cell_type": "markdown",
      "source": [
        "### Installing necessary drivers - Google Generative AI, Neo4j and Gradio.\n",
        "\n",
        "**Instruction:** Don't forget to restart the runtime after running the below cell"
      ],
      "metadata": {
        "id": "k4yjGsjihe7n"
      }
    },
    {
      "cell_type": "code",
      "execution_count": 2,
      "metadata": {
        "id": "vXYXe44FLeZy",
        "outputId": "c539a079-0c4d-4097-cf5e-785d850c4aab",
        "colab": {
          "base_uri": "https://localhost:8080/"
        }
      },
      "outputs": [
        {
          "output_type": "stream",
          "name": "stdout",
          "text": [
            "Requirement already satisfied: google-generativeai in /usr/local/lib/python3.10/dist-packages (0.3.2)\n",
            "Requirement already satisfied: google-ai-generativelanguage==0.4.0 in /usr/local/lib/python3.10/dist-packages (from google-generativeai) (0.4.0)\n",
            "Requirement already satisfied: google-auth in /usr/local/lib/python3.10/dist-packages (from google-generativeai) (2.27.0)\n",
            "Requirement already satisfied: google-api-core in /usr/local/lib/python3.10/dist-packages (from google-generativeai) (2.11.1)\n",
            "Requirement already satisfied: typing-extensions in /usr/local/lib/python3.10/dist-packages (from google-generativeai) (4.11.0)\n",
            "Requirement already satisfied: protobuf in /usr/local/lib/python3.10/dist-packages (from google-generativeai) (3.20.3)\n",
            "Requirement already satisfied: tqdm in /usr/local/lib/python3.10/dist-packages (from google-generativeai) (4.66.2)\n",
            "Requirement already satisfied: proto-plus<2.0.0dev,>=1.22.3 in /usr/local/lib/python3.10/dist-packages (from google-ai-generativelanguage==0.4.0->google-generativeai) (1.23.0)\n",
            "Requirement already satisfied: googleapis-common-protos<2.0.dev0,>=1.56.2 in /usr/local/lib/python3.10/dist-packages (from google-api-core->google-generativeai) (1.63.0)\n",
            "Requirement already satisfied: requests<3.0.0.dev0,>=2.18.0 in /usr/local/lib/python3.10/dist-packages (from google-api-core->google-generativeai) (2.31.0)\n",
            "Requirement already satisfied: cachetools<6.0,>=2.0.0 in /usr/local/lib/python3.10/dist-packages (from google-auth->google-generativeai) (5.3.3)\n",
            "Requirement already satisfied: pyasn1-modules>=0.2.1 in /usr/local/lib/python3.10/dist-packages (from google-auth->google-generativeai) (0.4.0)\n",
            "Requirement already satisfied: rsa<5,>=3.1.4 in /usr/local/lib/python3.10/dist-packages (from google-auth->google-generativeai) (4.9)\n",
            "Requirement already satisfied: grpcio<2.0dev,>=1.33.2 in /usr/local/lib/python3.10/dist-packages (from google-api-core->google-generativeai) (1.62.1)\n",
            "Requirement already satisfied: grpcio-status<2.0.dev0,>=1.33.2 in /usr/local/lib/python3.10/dist-packages (from google-api-core->google-generativeai) (1.48.2)\n",
            "Requirement already satisfied: pyasn1<0.7.0,>=0.4.6 in /usr/local/lib/python3.10/dist-packages (from pyasn1-modules>=0.2.1->google-auth->google-generativeai) (0.6.0)\n",
            "Requirement already satisfied: charset-normalizer<4,>=2 in /usr/local/lib/python3.10/dist-packages (from requests<3.0.0.dev0,>=2.18.0->google-api-core->google-generativeai) (3.3.2)\n",
            "Requirement already satisfied: idna<4,>=2.5 in /usr/local/lib/python3.10/dist-packages (from requests<3.0.0.dev0,>=2.18.0->google-api-core->google-generativeai) (3.7)\n",
            "Requirement already satisfied: urllib3<3,>=1.21.1 in /usr/local/lib/python3.10/dist-packages (from requests<3.0.0.dev0,>=2.18.0->google-api-core->google-generativeai) (2.0.7)\n",
            "Requirement already satisfied: certifi>=2017.4.17 in /usr/local/lib/python3.10/dist-packages (from requests<3.0.0.dev0,>=2.18.0->google-api-core->google-generativeai) (2024.2.2)\n"
          ]
        }
      ],
      "source": [
        "!pip install google-generativeai\n",
        "!pip install -q neo4j-driver\n",
        "!pip install -q gradio"
      ]
    },
    {
      "cell_type": "markdown",
      "metadata": {
        "id": "TUTKEGSzd5gR"
      },
      "source": [
        "### Import necessary libraries from installed packages/drivers - PaLM, base64, json, gradio and GraphDatabase"
      ]
    },
    {
      "cell_type": "code",
      "execution_count": 3,
      "metadata": {
        "id": "JZuvUuuTY3VZ"
      },
      "outputs": [],
      "source": [
        "import google.generativeai as genai\n",
        "import base64\n",
        "import json\n",
        "import gradio as gr\n",
        "from neo4j import GraphDatabase\n",
        "from google.colab import userdata"
      ]
    },
    {
      "cell_type": "markdown",
      "metadata": {
        "id": "_qxbTb6YeDus"
      },
      "source": [
        "### Add Gemini API Key from Google AI Studio\n",
        "\n",
        "**Instruction:** Replace \"API_KEY\" with the value of API Key copied from Google AI Studio as mentioned in Step #6 of Part #2 of [Step-by-Step Guide](https://github.com/sidagarwal04/graph-powered-nlp-workshop/blob/main/step-by-step-guide.md#part-2-create-google-makersuite-account-train--test-prompt-in-google-makersuite-and-get-google-palm-2-api-key). Don't forget to add to include the key in double-quotes (\" \")"
      ]
    },
    {
      "cell_type": "code",
      "execution_count": 4,
      "metadata": {
        "id": "4F1dMaSWZK0z"
      },
      "outputs": [],
      "source": [
        "genai.configure(api_key = userdata.get('apiKey'))"
      ]
    },
    {
      "cell_type": "markdown",
      "source": [
        "### Include the generated prompt from Google AI Studio.\n",
        "\n",
        "**Instruction:** Remove the initial part of installing drivers and configuring the API key as it has already been done in previous steps. Also, put the entire code as a function with output to be returned instead of printing it."
      ],
      "metadata": {
        "id": "uf0swKVQjmmr"
      }
    },
    {
      "cell_type": "code",
      "execution_count": null,
      "metadata": {
        "id": "Hr-lG9sEZwaY"
      },
      "outputs": [],
      "source": [
        "def get_answer(input):\n",
        "\n",
        "  generation_config = {\n",
        "    \"temperature\": 0.9,\n",
        "    \"top_p\": 1,\n",
        "    \"top_k\": 1,\n",
        "    \"max_output_tokens\": 2048,\n",
        "    \"stop_sequences\": [\n",
        "      \"0\",\n",
        "    ],\n",
        "  }\n",
        "\n",
        "  safety_settings = [\n",
        "    {\n",
        "      \"category\": \"HARM_CATEGORY_HARASSMENT\",\n",
        "      \"threshold\": \"BLOCK_MEDIUM_AND_ABOVE\"\n",
        "    },\n",
        "    {\n",
        "      \"category\": \"HARM_CATEGORY_HATE_SPEECH\",\n",
        "      \"threshold\": \"BLOCK_MEDIUM_AND_ABOVE\"\n",
        "    },\n",
        "    {\n",
        "      \"category\": \"HARM_CATEGORY_SEXUALLY_EXPLICIT\",\n",
        "      \"threshold\": \"BLOCK_MEDIUM_AND_ABOVE\"\n",
        "    },\n",
        "    {\n",
        "      \"category\": \"HARM_CATEGORY_DANGEROUS_CONTENT\",\n",
        "      \"threshold\": \"BLOCK_MEDIUM_AND_ABOVE\"\n",
        "    },\n",
        "  ]\n",
        "\n",
        "  model = genai.GenerativeModel(model_name=\"gemini-1.0-pro\",\n",
        "                                generation_config=generation_config,\n",
        "                                safety_settings=safety_settings)\n",
        "\n",
        "  # prompt = f\"\"\"You are an expert in converting English questions to Neo4j Cypher Graph code! The Graph has following Node Labels - Movie, Person! the Movie Node has the following properties released, tagline, title. The Person node has properties such as name &amp; born. The Neo4j Graph has the following Relationship types ACTED_IN, DIRECTED, FOLLOWS, PRODUCED, REVIEWED, WROTE!\n",
        "\n",
        "  # All relationships ACTED_IN, DIRECTED, PRODUCED, REVIEWED, WROTE start from Person node to Movie node and not the other way around except for FOLLOWS relationship which starts from Person node to Person node.\n",
        "\n",
        "  # For example,\n",
        "  # Example 1 - List down 5 movies that released after the year 2000, the Cypher command will be something like this\n",
        "  # ``` MATCH (m:Movie)\n",
        "  # WHERE m.released > 2000\n",
        "  # RETURN m LIMIT 5\n",
        "  # ```\n",
        "\n",
        "  # Example 2 - Get all the people who acted in a movie that was released after 2010.\n",
        "  # ```\n",
        "  # MATCH (p:Person)-[r:ACTED_IN]->(m:Movie)\n",
        "  # WHERE m.released > 2010\n",
        "  # RETURN p,r,m\n",
        "  # ```\n",
        "\n",
        "  # Example 3 - Name the Director of the movie Apollo 13?\n",
        "  # ```\n",
        "  # MATCH (m:Movie)<-[:DIRECTED]-(p:Person)\n",
        "  # WHERE m.title = 'Apollo';\n",
        "  # RETURN p.name\n",
        "  # ```\n",
        "\n",
        "  # Do not include ``` and \\n in the output\n",
        "\n",
        "  # {input}\"\"\"\n",
        "  # response = genai.generate_text(**defaults,prompt=prompt)\n",
        "\n",
        "  prompt_parts = [\n",
        "    \"You are an expert in converting English questions to Neo4j Cypher Graph code! The Graph has following Node Labels - Movie, Person! the Movie Node has the following properties released, tagline, title. The Person node has properties such as name & born. The Neo4j Graph has the following Relationship types ACTED_IN, DIRECTED, FOLLOWS, PRODUCED, REVIEWED, WROTE!  All relationships ACTED_IN, DIRECTED, PRODUCED, REVIEWED, WROTE start from Person to Movie and not the other way around except for FOLLOWS relationship which starts from a Person node and ends on a Person node.\\n\\nDo not include ``` and \\\\n in the output\",\n",
        "    \"input: List down 5 movies that released after the year 2000, the Cypher command will be something like this\",\n",
        "    \"output: MATCH (m:Movie)  WHERE m.released > 2000  RETURN m LIMIT 5\",\n",
        "    \"input: Get all the people who acted in a movie that was released after 2010\",\n",
        "    \"output: MATCH (p:Person)-[r:ACTED_IN]->(m:Movie)  WHERE m.released > 2010  RETURN p,r,m\",\n",
        "    \"input: Name the Director of the movie Apollo 13?\",\n",
        "    \"output: MATCH (m:Movie)<-[:DIRECTED]-(p:Person)  WHERE m.title = 'Apollo';  RETURN p.name\",\n",
        "    \"input: Who were the actors in the movie V for Vendetta\",\n",
        "    \"output: \",\n",
        "  ]\n",
        "\n",
        "  response = model.generate_content(prompt_parts)\n",
        "  return response.text"
      ]
    },
    {
      "cell_type": "markdown",
      "source": [
        "### Testing the output of get_answer() function with a test input"
      ],
      "metadata": {
        "id": "QJOyVbAUkm2h"
      }
    },
    {
      "cell_type": "code",
      "execution_count": 8,
      "metadata": {
        "colab": {
          "base_uri": "https://localhost:8080/",
          "height": 35
        },
        "id": "O2ofGI64atGc",
        "outputId": "994ff9ea-9fbe-4ce9-9f44-78a8a9665a8c"
      },
      "outputs": [
        {
          "output_type": "execute_result",
          "data": {
            "text/plain": [
              "\"MATCH (m:Movie)  WHERE m.title = 'V for Vendetta';  MATCH (p:Person)-[r:ACTED_IN]->(m)  RETURN p.name\""
            ],
            "application/vnd.google.colaboratory.intrinsic+json": {
              "type": "string"
            }
          },
          "metadata": {},
          "execution_count": 8
        }
      ],
      "source": [
        "get_answer(\"Who were the actors in the movie V for Vendetta\")"
      ]
    },
    {
      "cell_type": "markdown",
      "source": [
        "### Initialize GraphDatabase driver\n",
        "\n",
        "**Instruction:** Replace URI, username and password before running the cell with the values from the txt file downloaded when creating Neo4j AuraDB instance in Step #4 of Part #1 of [Step By Step Guide](https://github.com/sidagarwal04/graph-powered-nlp-workshop/blob/main/step-by-step-guide.md#part-1-create-and-load-a-neo4j-instance) of this workshop."
      ],
      "metadata": {
        "id": "8V9yWsONkw1D"
      }
    },
    {
      "cell_type": "code",
      "execution_count": 25,
      "metadata": {
        "id": "YEMajMpDbEX6"
      },
      "outputs": [],
      "source": [
        "uri=userdata.get('NEO4J_URI')\n",
        "password=userdata.get('NEO4J_PASSWORD')\n",
        "driver = GraphDatabase.driver(uri,\n",
        "                              auth=(\"neo4j\",\n",
        "                                    password))"
      ]
    },
    {
      "cell_type": "markdown",
      "metadata": {
        "id": "IiyxjOE1dr3J"
      },
      "source": [
        "### Import required library for processing regular expressions"
      ]
    },
    {
      "cell_type": "code",
      "execution_count": 26,
      "metadata": {
        "id": "FQP5BDGpdpSF"
      },
      "outputs": [],
      "source": [
        "import re"
      ]
    },
    {
      "cell_type": "markdown",
      "metadata": {
        "id": "62T0UKQZc4fl"
      },
      "source": [
        "### Function to clean the output query from get_answer() function by removing slash n's (\\n) and substituting it with a space if it exists. Also, extract the string after RETURN expression in the output cypher query and utilize as a separate key to be used for printing the output in chatbot in later steps"
      ]
    },
    {
      "cell_type": "code",
      "execution_count": 27,
      "metadata": {
        "id": "dolSYLLmbrym"
      },
      "outputs": [],
      "source": [
        "def extract_query_and_return_key(input_query_result):\n",
        "    slash_n_pattern = r'[ \\n]+'\n",
        "    ret_pattern = r'RETURN\\s+(.*)'\n",
        "    replacement = ' '\n",
        "\n",
        "    cleaned_query = re.sub(slash_n_pattern, replacement, input_query_result)\n",
        "    if cleaned_query:\n",
        "        match = re.search(ret_pattern, cleaned_query)\n",
        "        if match:\n",
        "            extracted_string = match.group(1)\n",
        "        else:\n",
        "            extracted_string = \"\"\n",
        "    return cleaned_query, extracted_string"
      ]
    },
    {
      "cell_type": "markdown",
      "source": [
        "### Testing the extract_query_and_return_key() function with a test input in natural language"
      ],
      "metadata": {
        "id": "2XGpwCBmmKhT"
      }
    },
    {
      "cell_type": "code",
      "execution_count": 28,
      "metadata": {
        "colab": {
          "base_uri": "https://localhost:8080/",
          "height": 53
        },
        "id": "mI4G3_zScHYb",
        "outputId": "dadc816a-2056-4e3b-a263-4a8b45018d29"
      },
      "outputs": [
        {
          "output_type": "execute_result",
          "data": {
            "text/plain": [
              "(\"MATCH (m:Movie)<-[:ACTED_IN]-(p:Person) WHERE m.title = 'V for Vendetta'; RETURN p.name\",\n",
              " 'p.name')"
            ]
          },
          "metadata": {},
          "execution_count": 28
        }
      ],
      "source": [
        "extract_query_and_return_key(get_answer(\"Who were the actors in the movie V for Vendetta\"))"
      ]
    },
    {
      "cell_type": "markdown",
      "metadata": {
        "id": "Zap-rwZIccuV"
      },
      "source": [
        "### format_names_with_ampersand() to return results as a comma-separated string of values with last value having '&' (ampersand/and) in case the output is a list of values."
      ]
    },
    {
      "cell_type": "code",
      "execution_count": 30,
      "metadata": {
        "id": "MiKTUqoGccCD"
      },
      "outputs": [],
      "source": [
        "def format_names_with_ampersand(names):\n",
        "    if len(names) == 0:\n",
        "        return \"\"\n",
        "    elif len(names) == 1:\n",
        "        return names[0]\n",
        "    else:\n",
        "        formatted_names = \", \".join(names[:-1]) + \" & \" + names[-1]\n",
        "        return formatted_names"
      ]
    },
    {
      "cell_type": "markdown",
      "source": [
        "### Testing format_names_with_ampersand() with sample input having list of values"
      ],
      "metadata": {
        "id": "ehQc6_pBmtTo"
      }
    },
    {
      "cell_type": "code",
      "execution_count": 31,
      "metadata": {
        "colab": {
          "base_uri": "https://localhost:8080/",
          "height": 35
        },
        "id": "G9HWiCjMg7mv",
        "outputId": "bb60f58f-061c-4328-9c9a-337f0cbbd55b"
      },
      "outputs": [
        {
          "output_type": "execute_result",
          "data": {
            "text/plain": [
              "'Sachin, Virat & Rahul'"
            ],
            "application/vnd.google.colaboratory.intrinsic+json": {
              "type": "string"
            }
          },
          "metadata": {},
          "execution_count": 31
        }
      ],
      "source": [
        "format_names_with_ampersand([\"Sachin\",\"Virat\",\"Rahul\"])"
      ]
    },
    {
      "cell_type": "markdown",
      "metadata": {
        "id": "xVcvzmiGhK8Q"
      },
      "source": [
        "### run_cypher_on_neo4j() to pass the output query from get_answer() to the Neo4j Database. If the length of output list is more than 1, format_name_with_ampersand() will further format the list and if the length of output list is equal to 1, output list is returned as it is. In case the output list is empty, an empty string is returned"
      ]
    },
    {
      "cell_type": "code",
      "execution_count": 32,
      "metadata": {
        "id": "DX907ZoLhFlO"
      },
      "outputs": [],
      "source": [
        "def run_cypher_on_neo4j(inp_query, inp_key):\n",
        "    out_list = []\n",
        "    with driver.session() as session:\n",
        "        result = session.run(inp_query)\n",
        "        for record in result:\n",
        "            out_list.append(record[inp_key])\n",
        "    driver.close()\n",
        "    if len(out_list) > 1:\n",
        "        return format_names_with_ampersand(out_list)\n",
        "    elif len(out_list) == 1:\n",
        "        return out_list[0]\n",
        "    else:\n",
        "        return \"\""
      ]
    },
    {
      "cell_type": "markdown",
      "source": [
        "### Additional generate_and_exec_cypher() to parse and format the output of get_answer() and pass it to run_cypher_on_neo4j()"
      ],
      "metadata": {
        "id": "M2e8NAxtn62_"
      }
    },
    {
      "cell_type": "code",
      "execution_count": 33,
      "metadata": {
        "id": "_VyRl85rmRkE"
      },
      "outputs": [],
      "source": [
        "def generate_and_exec_cypher(input_query):\n",
        "    gen_query, gen_key = extract_query_and_return_key(get_answer(input_query))\n",
        "    return run_cypher_on_neo4j(gen_query, gen_key)"
      ]
    },
    {
      "cell_type": "markdown",
      "source": [
        "### chatbot() to initiliaze the chatbot and pass the output of generate_and_exec_cypher to be displayed in the chatbot"
      ],
      "metadata": {
        "id": "O4mZ13ZBoVIn"
      }
    },
    {
      "cell_type": "code",
      "execution_count": 34,
      "metadata": {
        "id": "ply_bUFznJQS"
      },
      "outputs": [],
      "source": [
        "def chatbot(input, history=[]):\n",
        "    output = str(generate_and_exec_cypher(input))\n",
        "    history.append((input, output))\n",
        "    return history, history"
      ]
    },
    {
      "cell_type": "markdown",
      "source": [
        "### Initializing Gradio interface to run the chatbot.\n",
        "\n",
        "**Instruction:** Run the chatbot in the localhost url generated after running the cell and play aroung with input and output in natural language while fetching the results from the Neo4j Database using PaLM 2 API for converting input text into cypher code."
      ],
      "metadata": {
        "id": "rcqP5ZhDol8r"
      }
    },
    {
      "cell_type": "code",
      "execution_count": null,
      "metadata": {
        "colab": {
          "base_uri": "https://localhost:8080/",
          "height": 648
        },
        "id": "m4HXQQvonPT5",
        "outputId": "0a488989-5b6b-489b-a86f-e2a63f455ee0"
      },
      "outputs": [
        {
          "output_type": "stream",
          "name": "stdout",
          "text": [
            "Setting queue=True in a Colab notebook requires sharing enabled. Setting `share=True` (you can turn this off by setting `share=False` in `launch()` explicitly).\n",
            "\n",
            "Colab notebook detected. This cell will run indefinitely so that you can see errors and logs. To turn off, set debug=False in launch().\n",
            "Running on public URL: https://eb4b137911df76b229.gradio.live\n",
            "\n",
            "This share link expires in 72 hours. For free permanent hosting and GPU upgrades, run `gradio deploy` from Terminal to deploy to Spaces (https://huggingface.co/spaces)\n"
          ]
        },
        {
          "output_type": "display_data",
          "data": {
            "text/plain": [
              "<IPython.core.display.HTML object>"
            ],
            "text/html": [
              "<div><iframe src=\"https://eb4b137911df76b229.gradio.live\" width=\"100%\" height=\"500\" allow=\"autoplay; camera; microphone; clipboard-read; clipboard-write;\" frameborder=\"0\" allowfullscreen></iframe></div>"
            ]
          },
          "metadata": {}
        }
      ],
      "source": [
        "gr.Interface(fn = chatbot,\n",
        "             inputs = [\"text\",'state'],\n",
        "             outputs = [\"chatbot\",'state']).launch(debug = True)"
      ]
    }
  ],
  "metadata": {
    "colab": {
      "provenance": [],
      "include_colab_link": true
    },
    "kernelspec": {
      "display_name": "Python 3",
      "name": "python3"
    },
    "language_info": {
      "name": "python"
    }
  },
  "nbformat": 4,
  "nbformat_minor": 0
}