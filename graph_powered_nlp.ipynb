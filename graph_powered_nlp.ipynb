{
  "cells": [
    {
      "cell_type": "markdown",
      "metadata": {
        "id": "MX2-zN1PdyAE"
      },
      "source": [
        "Install Google's Generative AI, Neo4j Drive and Gradio drivers"
      ]
    },
    {
      "cell_type": "code",
      "execution_count": null,
      "metadata": {
        "id": "vXYXe44FLeZy"
      },
      "outputs": [],
      "source": [
        "!pip install google-generativeai\n",
        "!pip install -q neo4j-driver\n",
        "!pip install -q gradio"
      ]
    },
    {
      "cell_type": "markdown",
      "metadata": {
        "id": "TUTKEGSzd5gR"
      },
      "source": [
        "Import Palm, base64, json, gradio and GraphDatabase library from installed packages/drivers"
      ]
    },
    {
      "cell_type": "code",
      "execution_count": null,
      "metadata": {
        "id": "JZuvUuuTY3VZ"
      },
      "outputs": [],
      "source": [
        "import google.generativeai as palm\n",
        "import base64\n",
        "import json\n",
        "import gradio as gr\n",
        "from neo4j import GraphDatabase"
      ]
    },
    {
      "cell_type": "markdown",
      "metadata": {
        "id": "_qxbTb6YeDus"
      },
      "source": [
        "Include secret key added as json file"
      ]
    },
    {
      "cell_type": "code",
      "execution_count": null,
      "metadata": {
        "id": "4F1dMaSWZK0z"
      },
      "outputs": [],
      "source": [
        "with open ('palm-key.json') as f:\n",
        "  data = json.load(f)\n",
        "  palm.configure(api_key = data[\"API_KEY\"])"
      ]
    },
    {
      "cell_type": "code",
      "execution_count": null,
      "metadata": {
        "id": "Hr-lG9sEZwaY"
      },
      "outputs": [],
      "source": [
        "def get_answer(input):\n",
        "\n",
        "  defaults = {\n",
        "    'model': 'models/text-bison-001',\n",
        "    'temperature': 0.7,\n",
        "    'candidate_count': 1,\n",
        "    'top_k': 40,\n",
        "    'top_p': 0.95,\n",
        "    'max_output_tokens': 1024,\n",
        "    'stop_sequences': [],\n",
        "    'safety_settings': [{\"category\":\"HARM_CATEGORY_DEROGATORY\",\"threshold\":1},{\"category\":\"HARM_CATEGORY_TOXICITY\",\"threshold\":1},{\"category\":\"HARM_CATEGORY_VIOLENCE\",\"threshold\":2},{\"category\":\"HARM_CATEGORY_SEXUAL\",\"threshold\":2},{\"category\":\"HARM_CATEGORY_MEDICAL\",\"threshold\":2},{\"category\":\"HARM_CATEGORY_DANGEROUS\",\"threshold\":2}],\n",
        "  }\n",
        "\n",
        "  prompt = f\"\"\"You are an expert in converting English questions to Neo4j Cypher Graph code! The Graph has following Node Labels - Movie, Person! the Movie Node has the following properties released, tagline, title. The Person node has properties such as name &amp; born. The Neo4j Graph has the following Relationship types ACTED_IN, DIRECTED, FOLLOWS, PRODUCED, REVIEWED, WROTE!\n",
        "\n",
        "  All relationships ACTED_IN, DIRECTED, FOLLOWS, PRODUCED, REVIEWED, WROTE start from Person to Movie and not the other way around.\n",
        "\n",
        "  For example,\n",
        "  Example 1 - List down 5 movies that released after the year 2000, the Cypher command will be something like this\n",
        "  ``` MATCH (m:Movie)\n",
        "  WHERE m.released > 2000\n",
        "  RETURN m LIMIT 5\n",
        "  ```\n",
        "\n",
        "  Example 2 - Get all the people who acted in a movie that was released after 2010.\n",
        "  ```\n",
        "  MATCH (p:Person)-[r:ACTED_IN]->(m:Movie)\n",
        "  WHERE m.released > 2010\n",
        "  RETURN p,r,m\n",
        "  ```\n",
        "\n",
        "  Example 3 - Name the Director of the movie Apollo 13?\n",
        "  ```\n",
        "  MATCH (m:Movie)<-[:DIRECTED]-(p:Person)\n",
        "  WHERE m.title = 'Apollo';\n",
        "  RETURN p.name\n",
        "  ```\n",
        "\n",
        "  Do not include ``` and \\n in the output\n",
        "\n",
        "  {input}\"\"\"\n",
        "  response = palm.generate_text(**defaults,prompt=prompt)\n",
        "\n",
        "  return response.result"
      ]
    },
    {
      "cell_type": "code",
      "execution_count": null,
      "metadata": {
        "colab": {
          "base_uri": "https://localhost:8080/",
          "height": 35
        },
        "id": "O2ofGI64atGc",
        "outputId": "2e541c67-7706-4b5e-d911-1dbf4c7ab284"
      },
      "outputs": [
        {
          "data": {
            "application/vnd.google.colaboratory.intrinsic+json": {
              "type": "string"
            },
            "text/plain": [
              "\"MATCH (m:Movie)-[:ACTED_IN]->(p:Person) WHERE m.title = 'V for Vendetta' RETURN p.name\""
            ]
          },
          "execution_count": 45,
          "metadata": {},
          "output_type": "execute_result"
        }
      ],
      "source": [
        "get_answer(\"Who were the actors in the movie V for Vendetta\")"
      ]
    },
    {
      "cell_type": "code",
      "execution_count": null,
      "metadata": {
        "id": "YEMajMpDbEX6"
      },
      "outputs": [],
      "source": [
        "driver = GraphDatabase.driver(\"url\",\n",
        "                              auth=(\"username\",\n",
        "                                    \"password\"))"
      ]
    },
    {
      "cell_type": "markdown",
      "metadata": {
        "id": "IiyxjOE1dr3J"
      },
      "source": [
        "Import re library for processing regular expressions"
      ]
    },
    {
      "cell_type": "code",
      "execution_count": null,
      "metadata": {
        "id": "FQP5BDGpdpSF"
      },
      "outputs": [],
      "source": [
        "import re"
      ]
    },
    {
      "cell_type": "markdown",
      "metadata": {
        "id": "62T0UKQZc4fl"
      },
      "source": [
        "Function to remove slash n's (\\n) and substituting it with a space in case it exists. For a cleaned query, capture the key-value pair after RETURN expression in cypher query and utilize as a key going-forward"
      ]
    },
    {
      "cell_type": "code",
      "execution_count": null,
      "metadata": {
        "id": "dolSYLLmbrym"
      },
      "outputs": [],
      "source": [
        "def extract_query_and_return_key(input_query_result):\n",
        "    slash_n_pattern = r'[ \\n]+'\n",
        "    ret_pattern = r'RETURN\\s+(.*)'\n",
        "    replacement = ' '\n",
        "\n",
        "    cleaned_query = re.sub(slash_n_pattern, replacement, input_query_result)\n",
        "    if cleaned_query:\n",
        "        match = re.search(ret_pattern, cleaned_query)\n",
        "        if match:\n",
        "            extracted_string = match.group(1)\n",
        "        else:\n",
        "            extracted_string = \"\"\n",
        "    return cleaned_query, extracted_string"
      ]
    },
    {
      "cell_type": "code",
      "execution_count": null,
      "metadata": {
        "colab": {
          "base_uri": "https://localhost:8080/"
        },
        "id": "mI4G3_zScHYb",
        "outputId": "1db9517b-5be9-4488-9cca-f2475dd9e8ae"
      },
      "outputs": [
        {
          "data": {
            "text/plain": [
              "(\"MATCH (p:Person)-[r:ACTED_IN]-(m:Movie) WHERE m.title = 'V for Vendetta' RETURN p.name\",\n",
              " 'p.name')"
            ]
          },
          "execution_count": 29,
          "metadata": {},
          "output_type": "execute_result"
        }
      ],
      "source": [
        "extract_query_and_return_key(get_answer(\"Who were the actors in the movie V for Vendetta\"))"
      ]
    },
    {
      "cell_type": "markdown",
      "metadata": {
        "id": "Zap-rwZIccuV"
      },
      "source": [
        "Function to return results as a comma-separated string values with last value having '&' (ampersand/and) in case of list of values."
      ]
    },
    {
      "cell_type": "code",
      "execution_count": null,
      "metadata": {
        "id": "MiKTUqoGccCD"
      },
      "outputs": [],
      "source": [
        "def format_names_with_ampersand(names):\n",
        "    if len(names) == 0:\n",
        "        return \"\"\n",
        "    elif len(names) == 1:\n",
        "        return names[0]\n",
        "    else:\n",
        "        formatted_names = \", \".join(names[:-1]) + \" & \" + names[-1]\n",
        "        return formatted_names"
      ]
    },
    {
      "cell_type": "code",
      "execution_count": null,
      "metadata": {
        "colab": {
          "base_uri": "https://localhost:8080/",
          "height": 35
        },
        "id": "G9HWiCjMg7mv",
        "outputId": "524d079e-321c-4a43-cc84-f75aabd822ec"
      },
      "outputs": [
        {
          "data": {
            "application/vnd.google.colaboratory.intrinsic+json": {
              "type": "string"
            },
            "text/plain": [
              "'Sachin, Virat & Rahul'"
            ]
          },
          "execution_count": 32,
          "metadata": {},
          "output_type": "execute_result"
        }
      ],
      "source": [
        "format_names_with_ampersand([\"Sachin\",\"Virat\",\"Rahul\"])"
      ]
    },
    {
      "cell_type": "markdown",
      "metadata": {
        "id": "xVcvzmiGhK8Q"
      },
      "source": [
        "Run Cypher on Neo4j function"
      ]
    },
    {
      "cell_type": "code",
      "execution_count": null,
      "metadata": {
        "id": "DX907ZoLhFlO"
      },
      "outputs": [],
      "source": [
        "def run_cypher_on_neo4j(inp_query, inp_key):\n",
        "    out_list = []\n",
        "    with driver.session() as session:\n",
        "        result = session.run(inp_query)\n",
        "        for record in result:\n",
        "            out_list.append(record[inp_key])\n",
        "    driver.close()\n",
        "    if len(out_list) > 1:\n",
        "        return format_names_with_ampersand(out_list)\n",
        "    else:\n",
        "        return out_list[0]"
      ]
    },
    {
      "cell_type": "code",
      "execution_count": null,
      "metadata": {
        "colab": {
          "base_uri": "https://localhost:8080/",
          "height": 35
        },
        "id": "U-CQi0ayhrVo",
        "outputId": "9266d91f-58a2-466a-91b1-618d97af12b0"
      },
      "outputs": [
        {
          "data": {
            "application/vnd.google.colaboratory.intrinsic+json": {
              "type": "string"
            },
            "text/plain": [
              "'John Hurt, Stephen Rea, Natalie Portman, Hugo Weaving & Ben Miles'"
            ]
          },
          "execution_count": 46,
          "metadata": {},
          "output_type": "execute_result"
        }
      ],
      "source": [
        "query_1, string_1 = extract_query_and_return_key(get_answer(\"Who were the actors in the movie V for Vendetta\"))\n",
        "\n",
        "run_cypher_on_neo4j (query_1, string_1)"
      ]
    },
    {
      "cell_type": "code",
      "execution_count": null,
      "metadata": {
        "id": "_VyRl85rmRkE"
      },
      "outputs": [],
      "source": [
        "def generate_and_exec_cypher(input_query):\n",
        "    gen_query, gen_key = extract_query_and_return_key(get_answer(input_query))\n",
        "    return run_cypher_on_neo4j(gen_query, gen_key)"
      ]
    },
    {
      "cell_type": "code",
      "execution_count": null,
      "metadata": {
        "id": "ply_bUFznJQS"
      },
      "outputs": [],
      "source": [
        "def chatbot(input, history=[]):\n",
        "    output = str(generate_and_exec_cypher(input))\n",
        "    history.append((input, output))\n",
        "    return history, history"
      ]
    },
    {
      "cell_type": "code",
      "execution_count": null,
      "metadata": {
        "colab": {
          "background_save": true
        },
        "id": "m4HXQQvonPT5"
      },
      "outputs": [],
      "source": [
        "gr.Interface(fn = chatbot,\n",
        "             inputs = [\"text\",'state'],\n",
        "             outputs = [\"chatbot\",'state']).launch(debug = True)"
      ]
    }
  ],
  "metadata": {
    "colab": {
      "provenance": [],
      "authorship_tag": "ABX9TyOoMB+roGm+7lAwyUTP+pdB"
    },
    "kernelspec": {
      "display_name": "Python 3",
      "name": "python3"
    },
    "language_info": {
      "name": "python"
    }
  },
  "nbformat": 4,
  "nbformat_minor": 0
}